{
 "cells": [
  {
   "cell_type": "code",
   "execution_count": 46,
   "metadata": {},
   "outputs": [],
   "source": [
    "%matplotlib inline\n",
    "\n",
    "import pandas as pd\n",
    "import numpy as np\n",
    "import matplotlib\n",
    "import matplotlib.pyplot as plt\n",
    "from sklearn.model_selection import train_test_split\n",
    "\n",
    "import math\n",
    "import torch\n",
    "import torch.nn as nn"
   ]
  },
  {
   "cell_type": "code",
   "execution_count": 47,
   "metadata": {},
   "outputs": [],
   "source": [
    "df = pd.read_excel('Real_estate_valuation_data_set.xlsx'); \n",
    "data = np.array(df)"
   ]
  },
  {
   "cell_type": "code",
   "execution_count": 48,
   "metadata": {},
   "outputs": [],
   "source": [
    "X = data[:,2:6] # Features\n",
    "y = data[:,-1] # labels/targets\n",
    "\n",
    "# split the dataet into training and test\n",
    "X_train, X_test, y_train, y_test = train_test_split(X, y, test_size=0.10, random_state=42)\n",
    "\n",
    "# split the training dataset further to get the validation dataset\n",
    "X_train, X_val, y_train, y_val = train_test_split(X_train, y_train, test_size=0.10, random_state=42)"
   ]
  },
  {
   "cell_type": "code",
   "execution_count": 49,
   "metadata": {},
   "outputs": [],
   "source": [
    "X_train_tensor = torch.tensor(X_train, dtype = torch.float32)"
   ]
  },
  {
   "cell_type": "code",
   "execution_count": 50,
   "metadata": {},
   "outputs": [],
   "source": [
    "y_train_tensor = torch.tensor(y_train)"
   ]
  },
  {
   "cell_type": "code",
   "execution_count": 51,
   "metadata": {},
   "outputs": [
    {
     "data": {
      "text/plain": [
       "torch.Size([334, 4])"
      ]
     },
     "execution_count": 51,
     "metadata": {},
     "output_type": "execute_result"
    }
   ],
   "source": [
    "X_train_tensor.shape"
   ]
  },
  {
   "cell_type": "code",
   "execution_count": null,
   "metadata": {},
   "outputs": [],
   "source": []
  },
  {
   "cell_type": "code",
   "execution_count": 52,
   "metadata": {},
   "outputs": [],
   "source": [
    "class FFNN(nn.Module):\n",
    "    \n",
    "    def __init__(self):\n",
    "        \n",
    "        super(FFNN, self).__init__()\n",
    "        \n",
    "        self.linear1 = nn.Linear(4,3)\n",
    "        self.relu=nn.ReLU()\n",
    "        self.linear2 = nn.Linear(3,1)\n",
    "\n",
    "        torch.nn.init.normal_(self.linear1.weight,mean=0.0, std=math.sqrt(2/4))\n",
    "        torch.nn.init.normal_(self.linear2.weight,mean=0.0,std=math.sqrt(1/3))\n",
    "        torch.nn.init.constant_(self.linear1.bias,0.1)\n",
    "        torch.nn.init.constant_(self.linear2.bias,0.2)\n",
    "\n",
    "    def forward(self,x):\n",
    "        h=self.linear1(x)\n",
    "        v=self.relu(h)\n",
    "        yhat=self.linear2(v)\n",
    "        return yhat"
   ]
  },
  {
   "cell_type": "code",
   "execution_count": 53,
   "metadata": {},
   "outputs": [],
   "source": [
    "ffnn = FFNN()"
   ]
  },
  {
   "cell_type": "code",
   "execution_count": 119,
   "metadata": {},
   "outputs": [
    {
     "name": "stdout",
     "output_type": "stream",
     "text": [
      "torch.Size([334, 1])\n"
     ]
    }
   ],
   "source": [
    "yHat = ffnn(X_train_tensor)\n",
    "\n",
    "print(yHat.shape)"
   ]
  },
  {
   "cell_type": "code",
   "execution_count": 55,
   "metadata": {},
   "outputs": [
    {
     "name": "stderr",
     "output_type": "stream",
     "text": [
      "D:\\program\\Anaconda\\lib\\site-packages\\torch\\nn\\modules\\loss.py:96: UserWarning: Using a target size (torch.Size([334, 1])) that is different to the input size (torch.Size([334])). This will likely lead to incorrect results due to broadcasting. Please ensure they have the same size.\n",
      "  return F.l1_loss(input, target, reduction=self.reduction)\n"
     ]
    }
   ],
   "source": [
    "L=nn.L1Loss()\n",
    "loss=L(y_train_tensor,yHat)"
   ]
  },
  {
   "cell_type": "code",
   "execution_count": 56,
   "metadata": {},
   "outputs": [],
   "source": [
    "from torch.utils.data import Dataset, DataLoader\n",
    "import torch.optim as optim"
   ]
  },
  {
   "cell_type": "code",
   "execution_count": 76,
   "metadata": {},
   "outputs": [],
   "source": [
    "optimizer=optim.SGD(ffnn.parameters(),lr=0.001)"
   ]
  },
  {
   "cell_type": "code",
   "execution_count": 77,
   "metadata": {},
   "outputs": [],
   "source": [
    "class RealEstate(Dataset):\n",
    "    \n",
    "    def __init__ (self, samples, labels):\n",
    "        self.samples = torch.tensor(samples, dtype = torch.float32)\n",
    "        self.labels = torch.tensor(labels)\n",
    "        \n",
    "    def __len__(self):\n",
    "        nSamples = self.samples.shape[0]\n",
    "        \n",
    "        return nSamples\n",
    "    \n",
    "    def __getitem__(self, index):\n",
    "        sample = self.samples[index]\n",
    "        label = self.labels[index]\n",
    "        \n",
    "        return sample , label"
   ]
  },
  {
   "cell_type": "code",
   "execution_count": 78,
   "metadata": {},
   "outputs": [],
   "source": [
    "trainDataset = RealEstate(X_train, y_train)"
   ]
  },
  {
   "cell_type": "code",
   "execution_count": 79,
   "metadata": {},
   "outputs": [
    {
     "name": "stdout",
     "output_type": "stream",
     "text": [
      "334 21\n"
     ]
    }
   ],
   "source": [
    "train_batch_size = 16\n",
    "val_batch_size = 4\n",
    "num_epochs = 10\n",
    "total_train_samples = len(trainDataset)\n",
    "n_train_iterations = math.ceil(total_train_samples / train_batch_size)\n",
    "print(total_train_samples, n_train_iterations)"
   ]
  },
  {
   "cell_type": "code",
   "execution_count": 80,
   "metadata": {},
   "outputs": [],
   "source": [
    "trainDataLoader = DataLoader(trainDataset, batch_size = train_batch_size, shuffle = True)"
   ]
  },
  {
   "cell_type": "code",
   "execution_count": 81,
   "metadata": {},
   "outputs": [],
   "source": [
    "valDataset = RealEstate(X_val, y_val)\n",
    "valDataLoader = DataLoader(valDataset,batch_size = val_batch_size,shuffle=False)"
   ]
  },
  {
   "cell_type": "code",
   "execution_count": 82,
   "metadata": {},
   "outputs": [
    {
     "name": "stdout",
     "output_type": "stream",
     "text": [
      "38 10\n"
     ]
    }
   ],
   "source": [
    "total_val_samples = len(valDataset)\n",
    "n_val_iterations = math.ceil(total_val_samples / val_batch_size)\n",
    "print(total_val_samples, n_val_iterations)"
   ]
  },
  {
   "cell_type": "code",
   "execution_count": 83,
   "metadata": {},
   "outputs": [
    {
     "name": "stdout",
     "output_type": "stream",
     "text": [
      "Training-epoch:0 is processing\n",
      "epoch 1/10, step 5/21, inputs: torch.Size([16, 4])\n",
      "loss 31.95600128173828 \n",
      "\n",
      "epoch 1/10, step 10/21, inputs: torch.Size([16, 4])\n",
      "loss 40.338504791259766 \n",
      "\n",
      "epoch 1/10, step 15/21, inputs: torch.Size([16, 4])\n",
      "loss 28.508502960205078 \n",
      "\n",
      "epoch 1/10, step 20/21, inputs: torch.Size([16, 4])\n",
      "loss 37.09100341796875 \n",
      "\n",
      "Val-epoch:0 is processing\n",
      "epoch 1/10, step 5/10, inputs: torch.Size([4, 4])\n",
      "val-loss 33.05775451660156 \n",
      "\n",
      "epoch 1/10, step 10/10, inputs: torch.Size([2, 4])\n",
      "val-loss 27.23275375366211 \n",
      "\n",
      "Training-epoch:1 is processing\n",
      "epoch 2/10, step 5/21, inputs: torch.Size([16, 4])\n",
      "loss 34.67875289916992 \n",
      "\n",
      "epoch 2/10, step 10/21, inputs: torch.Size([16, 4])\n",
      "loss 35.48625564575195 \n",
      "\n",
      "epoch 2/10, step 15/21, inputs: torch.Size([16, 4])\n",
      "loss 33.04375457763672 \n",
      "\n",
      "epoch 2/10, step 20/21, inputs: torch.Size([16, 4])\n",
      "loss 33.4887580871582 \n",
      "\n",
      "Val-epoch:1 is processing\n",
      "epoch 2/10, step 5/10, inputs: torch.Size([4, 4])\n",
      "val-loss 33.0367546081543 \n",
      "\n",
      "epoch 2/10, step 10/10, inputs: torch.Size([2, 4])\n",
      "val-loss 27.211755752563477 \n",
      "\n",
      "Training-epoch:2 is processing\n",
      "epoch 3/10, step 5/21, inputs: torch.Size([16, 4])\n",
      "loss 32.96400833129883 \n",
      "\n",
      "epoch 3/10, step 10/21, inputs: torch.Size([16, 4])\n",
      "loss 36.8277587890625 \n",
      "\n",
      "epoch 3/10, step 15/21, inputs: torch.Size([16, 4])\n",
      "loss 32.74150848388672 \n",
      "\n",
      "epoch 3/10, step 20/21, inputs: torch.Size([16, 4])\n",
      "loss 33.861507415771484 \n",
      "\n",
      "Val-epoch:2 is processing\n",
      "epoch 3/10, step 5/10, inputs: torch.Size([4, 4])\n",
      "val-loss 33.0157585144043 \n",
      "\n",
      "epoch 3/10, step 10/10, inputs: torch.Size([2, 4])\n",
      "val-loss 27.190757751464844 \n",
      "\n",
      "Training-epoch:3 is processing\n",
      "epoch 4/10, step 5/21, inputs: torch.Size([16, 4])\n",
      "loss 32.98675537109375 \n",
      "\n",
      "epoch 4/10, step 10/21, inputs: torch.Size([16, 4])\n",
      "loss 29.581756591796875 \n",
      "\n",
      "epoch 4/10, step 15/21, inputs: torch.Size([16, 4])\n",
      "loss 26.21426010131836 \n",
      "\n",
      "epoch 4/10, step 20/21, inputs: torch.Size([16, 4])\n",
      "loss 33.928009033203125 \n",
      "\n",
      "Val-epoch:3 is processing\n",
      "epoch 4/10, step 5/10, inputs: torch.Size([4, 4])\n",
      "val-loss 32.99475860595703 \n",
      "\n",
      "epoch 4/10, step 10/10, inputs: torch.Size([2, 4])\n",
      "val-loss 27.16975975036621 \n",
      "\n",
      "Training-epoch:4 is processing\n",
      "epoch 5/10, step 5/21, inputs: torch.Size([16, 4])\n",
      "loss 37.78451156616211 \n",
      "\n",
      "epoch 5/10, step 10/21, inputs: torch.Size([16, 4])\n",
      "loss 29.7857608795166 \n",
      "\n",
      "epoch 5/10, step 15/21, inputs: torch.Size([16, 4])\n",
      "loss 33.29325866699219 \n",
      "\n",
      "epoch 5/10, step 20/21, inputs: torch.Size([16, 4])\n",
      "loss 31.64451026916504 \n",
      "\n",
      "Val-epoch:4 is processing\n",
      "epoch 5/10, step 5/10, inputs: torch.Size([4, 4])\n",
      "val-loss 32.973758697509766 \n",
      "\n",
      "epoch 5/10, step 10/10, inputs: torch.Size([2, 4])\n",
      "val-loss 27.148759841918945 \n",
      "\n",
      "Training-epoch:5 is processing\n",
      "epoch 6/10, step 5/21, inputs: torch.Size([16, 4])\n",
      "loss 36.18851089477539 \n",
      "\n",
      "epoch 6/10, step 10/21, inputs: torch.Size([16, 4])\n",
      "loss 33.871009826660156 \n",
      "\n",
      "epoch 6/10, step 15/21, inputs: torch.Size([16, 4])\n",
      "loss 36.73476028442383 \n",
      "\n",
      "epoch 6/10, step 20/21, inputs: torch.Size([16, 4])\n",
      "loss 36.01726150512695 \n",
      "\n",
      "Val-epoch:5 is processing\n",
      "epoch 6/10, step 5/10, inputs: torch.Size([4, 4])\n",
      "val-loss 32.952762603759766 \n",
      "\n",
      "epoch 6/10, step 10/10, inputs: torch.Size([2, 4])\n",
      "val-loss 27.127761840820312 \n",
      "\n",
      "Training-epoch:6 is processing\n",
      "epoch 7/10, step 5/21, inputs: torch.Size([16, 4])\n",
      "loss 37.75501251220703 \n",
      "\n",
      "epoch 7/10, step 10/21, inputs: torch.Size([16, 4])\n",
      "loss 35.25001525878906 \n",
      "\n",
      "epoch 7/10, step 15/21, inputs: torch.Size([16, 4])\n",
      "loss 32.857513427734375 \n",
      "\n",
      "epoch 7/10, step 20/21, inputs: torch.Size([16, 4])\n",
      "loss 29.1087646484375 \n",
      "\n",
      "Val-epoch:6 is processing\n",
      "epoch 7/10, step 5/10, inputs: torch.Size([4, 4])\n",
      "val-loss 32.9317626953125 \n",
      "\n",
      "epoch 7/10, step 10/10, inputs: torch.Size([2, 4])\n",
      "val-loss 27.10676383972168 \n",
      "\n",
      "Training-epoch:7 is processing\n",
      "epoch 8/10, step 5/21, inputs: torch.Size([16, 4])\n",
      "loss 33.177764892578125 \n",
      "\n",
      "epoch 8/10, step 10/21, inputs: torch.Size([16, 4])\n",
      "loss 31.466514587402344 \n",
      "\n",
      "epoch 8/10, step 15/21, inputs: torch.Size([16, 4])\n",
      "loss 39.64901351928711 \n",
      "\n",
      "epoch 8/10, step 20/21, inputs: torch.Size([16, 4])\n",
      "loss 33.41276550292969 \n",
      "\n",
      "Val-epoch:7 is processing\n",
      "epoch 8/10, step 5/10, inputs: torch.Size([4, 4])\n",
      "val-loss 32.9107666015625 \n",
      "\n",
      "epoch 8/10, step 10/10, inputs: torch.Size([2, 4])\n",
      "val-loss 27.085763931274414 \n",
      "\n",
      "Training-epoch:8 is processing\n",
      "epoch 9/10, step 5/21, inputs: torch.Size([16, 4])\n",
      "loss 33.363014221191406 \n",
      "\n",
      "epoch 9/10, step 10/21, inputs: torch.Size([16, 4])\n",
      "loss 36.54551315307617 \n",
      "\n",
      "epoch 9/10, step 15/21, inputs: torch.Size([16, 4])\n",
      "loss 34.896766662597656 \n",
      "\n",
      "epoch 9/10, step 20/21, inputs: torch.Size([16, 4])\n",
      "loss 33.36051940917969 \n",
      "\n",
      "Val-epoch:8 is processing\n",
      "epoch 9/10, step 5/10, inputs: torch.Size([4, 4])\n",
      "val-loss 32.889766693115234 \n",
      "\n",
      "epoch 9/10, step 10/10, inputs: torch.Size([2, 4])\n",
      "val-loss 27.06476593017578 \n",
      "\n",
      "Training-epoch:9 is processing\n",
      "epoch 10/10, step 5/21, inputs: torch.Size([16, 4])\n",
      "loss 34.917015075683594 \n",
      "\n",
      "epoch 10/10, step 10/21, inputs: torch.Size([16, 4])\n",
      "loss 32.35576629638672 \n",
      "\n",
      "epoch 10/10, step 15/21, inputs: torch.Size([16, 4])\n",
      "loss 28.525768280029297 \n",
      "\n",
      "epoch 10/10, step 20/21, inputs: torch.Size([16, 4])\n",
      "loss 33.36451721191406 \n",
      "\n",
      "Val-epoch:9 is processing\n",
      "epoch 10/10, step 5/10, inputs: torch.Size([4, 4])\n",
      "val-loss 32.86876678466797 \n",
      "\n",
      "epoch 10/10, step 10/10, inputs: torch.Size([2, 4])\n",
      "val-loss 27.04376792907715 \n",
      "\n"
     ]
    }
   ],
   "source": [
    "for epoch in range(num_epochs):\n",
    "    \n",
    "    print(f'Training-epoch:{epoch} is processing')\n",
    "    for i, batch in enumerate(trainDataLoader):\n",
    "        \n",
    "        samples, labels = batch\n",
    "        ffnn.zero_grad()\n",
    "        yPred = ffnn(samples)\n",
    "        L=nn.L1Loss()\n",
    "        loss = L(yPred.squeeze(), labels)\n",
    "        if (i+1) % 5 == 0:\n",
    "            print(f'epoch {epoch+1}/{num_epochs}, step {i+1}/{n_train_iterations}, inputs: {samples.shape}')\n",
    "            print(\"loss\", loss.item(), '\\n')\n",
    "        loss.backward()\n",
    "        optimizer.step()\n",
    "    with torch.no_grad():\n",
    "        print(f'Val-epoch:{epoch} is processing')\n",
    "        for i, batch in enumerate(valDataLoader):\n",
    "        \n",
    "            samples, labels = batch\n",
    "            ffnn.zero_grad()\n",
    "            yPred = ffnn(samples)\n",
    "            L=nn.L1Loss()\n",
    "            loss = L(yPred.squeeze(), labels)\n",
    "            if (i+1) % 5 == 0:\n",
    "                print(f'epoch {epoch+1}/{num_epochs}, step {i+1}/{n_val_iterations}, inputs: {samples.shape}')\n",
    "                print(\"val-loss\", loss.item(), '\\n')"
   ]
  },
  {
   "cell_type": "markdown",
   "metadata": {},
   "source": [
    "## For the dataset used in project"
   ]
  },
  {
   "cell_type": "markdown",
   "metadata": {},
   "source": [
    "# LFW dataset"
   ]
  },
  {
   "cell_type": "code",
   "execution_count": 32,
   "metadata": {},
   "outputs": [
    {
     "name": "stdout",
     "output_type": "stream",
     "text": [
      "Requirement already satisfied: mtcnn in d:\\program\\anaconda\\lib\\site-packages (0.1.1)Note: you may need to restart the kernel to use updated packages.\n",
      "\n",
      "Requirement already satisfied: keras>=2.0.0 in d:\\program\\anaconda\\lib\\site-packages (from mtcnn) (2.7.0)\n",
      "Requirement already satisfied: opencv-python>=4.1.0 in d:\\program\\anaconda\\lib\\site-packages (from mtcnn) (4.5.5.64)\n",
      "Requirement already satisfied: numpy>=1.14.5; python_version >= \"3.7\" in d:\\program\\anaconda\\lib\\site-packages (from opencv-python>=4.1.0->mtcnn) (1.19.2)\n"
     ]
    }
   ],
   "source": [
    "# general functions\n",
    "import os\n",
    "import matplotlib.pyplot as plt\n",
    "import pandas as pd\n",
    "import numpy as np\n",
    "from collections import OrderedDict\n",
    "# visualization\n",
    "from PIL import Image\n",
    "# visualizing bounding boxes\n",
    "import matplotlib.patches as patches\n",
    "# CNN\n",
    "import keras\n",
    "from sklearn.model_selection import train_test_split"
   ]
  },
  {
   "cell_type": "code",
   "execution_count": 5,
   "metadata": {},
   "outputs": [],
   "source": [
    "# Data read-in and cleaning\n",
    "dataset_path = \"C:/Users/Chris/Downloads/lfwDataset/lfw-deepfunneled/\"\n",
    "\n",
    "lfw_allnames = pd.read_csv(r\"C:\\Users\\Chris\\Downloads\\lfwDataset\\lfw_allnames.csv\")\n"
   ]
  },
  {
   "cell_type": "code",
   "execution_count": 14,
   "metadata": {},
   "outputs": [
    {
     "name": "stdout",
     "output_type": "stream",
     "text": [
      "10586\n"
     ]
    }
   ],
   "source": [
    "# shape data frame so there is a row per image, matched to relevant jpg file\n",
    "image_paths = lfw_allnames.loc[lfw_allnames.index.repeat(lfw_allnames['images'])]\n",
    "image_paths['image_path'] = 1 + image_paths.groupby('name').cumcount()\n",
    "image_paths['image_path'] = image_paths.image_path.apply(lambda x: '{0:0>4}'.format(x))\n",
    "image_paths['image_path'] = image_paths.name + \"/\" + image_paths.name + \"_\" + image_paths.image_path + \".jpg\"\n",
    "image_paths = image_paths.drop(\"images\",1)\n",
    "\n",
    "# take a random sample: 80% of the data for the test set\n",
    "lfw_train, lfw_test = train_test_split(image_paths, test_size=0.2)\n",
    "lfw_train = lfw_train.reset_index().drop(\"index\",1)\n",
    "lfw_test = lfw_test.reset_index().drop(\"index\",1)\n",
    "\n",
    "print(len(lfw_train))"
   ]
  },
  {
   "cell_type": "code",
   "execution_count": 17,
   "metadata": {},
   "outputs": [
    {
     "data": {
      "text/plain": [
       "<AxesSubplot:>"
      ]
     },
     "execution_count": 17,
     "metadata": {},
     "output_type": "execute_result"
    },
    {
     "data": {
      "image/png": "[encoded data removed]",
      "text/plain": [
       "<Figure size 432x288 with 1 Axes>"
      ]
     },
     "metadata": {
      "needs_background": "light"
     },
     "output_type": "display_data"
    }
   ],
   "source": [
    "image_paths['name'].value_counts()[:10].plot(kind = \"bar\")"
   ]
  },
  {
   "cell_type": "code",
   "execution_count": 34,
   "metadata": {},
   "outputs": [
    {
     "data": {
      "text/plain": [
       "<matplotlib.image.AxesImage at 0x1ce158b65e0>"
      ]
     },
     "execution_count": 34,
     "metadata": {},
     "output_type": "execute_result"
    },
    {
     "data": {
      "image/png": "[encoded data removed]",
      "text/plain": [
       "<Figure size 432x288 with 1 Axes>"
      ]
     },
     "metadata": {
      "needs_background": "light"
     },
     "output_type": "display_data"
    }
   ],
   "source": [
    "im = Image.open(dataset_path + str(lfw_train.image_path[0]))\n",
    "plt.imshow(im)"
   ]
  },
  {
   "cell_type": "markdown",
   "metadata": {},
   "source": [
    "First, we are testing to see whether the images are in category A or B using our model. We can recreate these conditions on a subset of the data, using the samples of George W Bush. The goal of this testing is to identify whether an image is George W Bush or not; we use a random sample of the other images for category B."
   ]
  },
  {
   "cell_type": "code",
   "execution_count": 35,
   "metadata": {},
   "outputs": [],
   "source": [
    "# Create a dataset for George W Bush\n",
    "not_george = image_paths[image_paths.name!=\"George_W_Bush\"].sample(530)\n",
    "not_george.name = \"not_George\"\n",
    "GWB_data = pd.concat([image_paths[image_paths.name==\"George_W_Bush\"],\n",
    "                     not_george])"
   ]
  },
  {
   "cell_type": "code",
   "execution_count": 36,
   "metadata": {},
   "outputs": [],
   "source": [
    "# split into training set, testing set and validation set\n",
    "bush_train, bush_test = train_test_split(GWB_data, test_size=0.2)\n",
    "bush_train, bush_val = train_test_split(bush_train,test_size=0.2)"
   ]
  },
  {
   "cell_type": "code",
   "execution_count": 40,
   "metadata": {},
   "outputs": [],
   "source": [
    "# define a custom function to move images to a new train/test/val directory\n",
    "\n",
    "def directory_mover(data,dir_name):\n",
    "    co = 0\n",
    "    for image in data.image_path:\n",
    "        # create top directory\n",
    "        if not os.path.exists(os.path.join('C:/Users/Chris/Downloads/lfwDataset/GWB/',dir_name)):\n",
    "            shutil.os.mkdir(os.path.join('C:/Users/Chris/Downloads/lfwDataset/GWB/',dir_name))\n",
    "        \n",
    "        data_type = data[data['image_path'] == image]['name']\n",
    "        data_type = str(list(data_type)[0])\n",
    "        if not os.path.exists(os.path.join('C:/Users/Chris/Downloads/lfwDataset/GWB/',dir_name,data_type)):\n",
    "            shutil.os.mkdir(os.path.join('C:/Users/Chris/Downloads/lfwDataset/GWB/',dir_name,data_type))\n",
    "        path_from = os.path.join('C:/Users/Chris/Downloads/lfwDataset/lfw-deepfunneled/',image)\n",
    "        path_to = os.path.join('C:/Users/Chris/Downloads/lfwDataset/GWB/',dir_name,data_type)\n",
    "        # print(path_to)\n",
    "        shutil.copy(path_from, path_to)\n",
    "        # print('Moved {} to {}'.format(image,path_to))\n",
    "        co += 1\n",
    "        \n",
    "    print('Moved {} images to {} folder.'.format(co,dir_name))"
   ]
  },
  {
   "cell_type": "code",
   "execution_count": 41,
   "metadata": {},
   "outputs": [
    {
     "name": "stdout",
     "output_type": "stream",
     "text": [
      "Moved 678 images to Bush_train/ folder.\n",
      "Moved 170 images to Bush_val/ folder.\n",
      "Moved 212 images to Bush_test/ folder.\n"
     ]
    }
   ],
   "source": [
    "# move images:\n",
    "directory_mover(bush_train,\"Bush_train/\")\n",
    "directory_mover(bush_val,\"Bush_val/\")\n",
    "directory_mover(bush_test,\"Bush_test/\")"
   ]
  },
  {
   "cell_type": "code",
   "execution_count": null,
   "metadata": {},
   "outputs": [],
   "source": []
  },
  {
   "cell_type": "code",
   "execution_count": 134,
   "metadata": {},
   "outputs": [],
   "source": [
    "import torch\n",
    "import torch.nn as nn\n",
    "import torch.nn.functional as F\n",
    "from torch.autograd import Variable\n",
    "from torch.utils.data import Dataset, DataLoader\n",
    "import torch.optim as optim\n",
    "import torchvision\n",
    "from torchvision import transforms\n",
    "\n",
    "### Hyper parameters\n",
    "num_epochs = 2\n",
    "batchsize = 16\n",
    "lr = 0.001\n",
    "\n",
    "\n",
    "TRAIN_DATA_PATH = 'C:/Users/Chris/Downloads/lfwDataset/GWB/Bush_train/'\n",
    "VAL_DATA_PATH = 'C:/Users/Chris/Downloads/lfwDataset/GWB/Bush_val/'\n",
    "TEST_DATA_PATH = 'C:/Users/Chris/Downloads/lfwDataset/GWB/Bush_test/'\n",
    "TRANSFORM_IMG = transforms.Compose([\n",
    "    transforms.Resize(256),\n",
    "    transforms.CenterCrop(256),\n",
    "    transforms.ToTensor(),\n",
    "    transforms.Normalize(mean=[0.485, 0.456, 0.406],\n",
    "                         std=[0.229, 0.224, 0.225] )\n",
    "    ])\n",
    "\n",
    "train_data = torchvision.datasets.ImageFolder(root=TRAIN_DATA_PATH, transform=TRANSFORM_IMG)\n",
    "train_data_loader = DataLoader(train_data, batch_size=batchsize, shuffle=True,  num_workers=4)\n",
    "\n",
    "val_data = torchvision.datasets.ImageFolder(root=VAL_DATA_PATH, transform=TRANSFORM_IMG)\n",
    "val_data_loader = DataLoader(val_data, batch_size= batchsize, shuffle= False,  num_workers=4)\n",
    "\n",
    "test_data = torchvision.datasets.ImageFolder(root=TEST_DATA_PATH, transform=TRANSFORM_IMG)\n",
    "test_data_loader  = DataLoader(test_data, batch_size= batchsize, shuffle=True, num_workers=4) \n"
   ]
  },
  {
   "cell_type": "code",
   "execution_count": 135,
   "metadata": {},
   "outputs": [
    {
     "name": "stdout",
     "output_type": "stream",
     "text": [
      "678 43\n",
      "170 11\n"
     ]
    }
   ],
   "source": [
    "total_train_samples = len(train_data)\n",
    "n_train_iterations = math.ceil(total_train_samples / batchsize)\n",
    "print(total_train_samples, n_train_iterations)\n",
    "\n",
    "total_val_samples = len(val_data)\n",
    "n_val_iterations = math.ceil(total_val_samples / batchsize)\n",
    "print(total_val_samples, n_val_iterations)\n"
   ]
  },
  {
   "cell_type": "code",
   "execution_count": 137,
   "metadata": {},
   "outputs": [
    {
     "data": {
      "text/plain": [
       "CNN(\n",
       "  (layer1): Sequential(\n",
       "    (0): Conv2d(3, 32, kernel_size=(3, 3), stride=(1, 1), padding=(1, 1))\n",
       "    (1): ReLU()\n",
       "    (2): MaxPool2d(kernel_size=2, stride=2, padding=0, dilation=1, ceil_mode=False)\n",
       "  )\n",
       "  (layer2): Sequential(\n",
       "    (0): Conv2d(32, 64, kernel_size=(3, 3), stride=(1, 1), padding=(1, 1))\n",
       "    (1): ReLU()\n",
       "    (2): MaxPool2d(kernel_size=2, stride=2, padding=0, dilation=1, ceil_mode=False)\n",
       "  )\n",
       "  (layer3): Sequential(\n",
       "    (0): Conv2d(64, 128, kernel_size=(3, 3), stride=(1, 1), padding=(1, 1))\n",
       "    (1): ReLU()\n",
       "    (2): MaxPool2d(kernel_size=2, stride=2, padding=1, dilation=1, ceil_mode=False)\n",
       "  )\n",
       "  (fc1): Linear(in_features=139392, out_features=64, bias=True)\n",
       "  (layer4): Sequential(\n",
       "    (0): Linear(in_features=139392, out_features=64, bias=True)\n",
       "    (1): ReLU()\n",
       "  )\n",
       "  (fc2): Linear(in_features=64, out_features=2, bias=True)\n",
       ")"
      ]
     },
     "execution_count": 137,
     "metadata": {},
     "output_type": "execute_result"
    }
   ],
   "source": [
    "# Implementation of CNN/ConvNet Model\n",
    "class CNN(torch.nn.Module):\n",
    "\n",
    "    def __init__(self):\n",
    "        super(CNN, self).__init__()\n",
    "        # L1 ImgIn shape=(?, 256, 256, 3)\n",
    "        # Conv -> (?, 256, 256, 32)\n",
    "        # Pool -> (?, 128, 128, 32)\n",
    "        self.layer1 = torch.nn.Sequential(\n",
    "            torch.nn.Conv2d(3, 32, kernel_size=3, stride=1, padding=1),\n",
    "            torch.nn.ReLU(),\n",
    "            torch.nn.MaxPool2d(kernel_size=2, stride=2))\n",
    "            \n",
    "        # L2 ImgIn shape=(?, 128, 128, 32)\n",
    "        # Conv      ->(?, 128, 128, 64)\n",
    "        # Pool      ->(?, 64, 64, 64)\n",
    "        self.layer2 = torch.nn.Sequential(\n",
    "            torch.nn.Conv2d(32, 64, kernel_size=3, stride=1, padding=1),\n",
    "            torch.nn.ReLU(),\n",
    "            torch.nn.MaxPool2d(kernel_size=2, stride=2))\n",
    "            \n",
    "        # L3 ImgIn shape=(?, 64, 64, 64)\n",
    "        # Conv ->(?, 64, 64, 128)\n",
    "        # Pool ->(?,32, 32, 128)\n",
    "        self.layer3 = torch.nn.Sequential(\n",
    "            torch.nn.Conv2d(64, 128, kernel_size=3, stride=1, padding=1),\n",
    "            torch.nn.ReLU(),\n",
    "            torch.nn.MaxPool2d(kernel_size=2, stride=2, padding=1))\n",
    "            \n",
    "        # L4 FC 32x32x128 inputs -> 625 outputs\n",
    "        self.fc1 = torch.nn.Linear(33 * 33 * 128, 64, bias=True)\n",
    "        torch.nn.init.xavier_uniform_(self.fc1.weight)\n",
    "        self.layer4 = torch.nn.Sequential(\n",
    "            self.fc1,\n",
    "            torch.nn.ReLU())\n",
    "            \n",
    "        # L5 Final FC 64 inputs -> 2 outputs\n",
    "        self.fc2 = torch.nn.Linear(64, 2, bias=True)\n",
    "            \n",
    "        #torch.nn.init.normal_(self.fc2, mean=0.0, std= 0.5)\n",
    "        torch.nn.init.xavier_uniform_(self.fc2.weight) # initialize parameters\n",
    "        \n",
    "\n",
    "    def forward(self, x):\n",
    "        out = self.layer1(x)\n",
    "        out = self.layer2(out)\n",
    "        out = self.layer3(out)\n",
    "        out = out.view(out.size(0), -1)   # Flatten them for FC\n",
    "        out = self.fc1(out)\n",
    "        out = self.fc2(out)\n",
    "        return out\n",
    "\n",
    "\n",
    "#instantiate CNN model\n",
    "model = CNN()\n",
    "model"
   ]
  },
  {
   "cell_type": "code",
   "execution_count": null,
   "metadata": {},
   "outputs": [],
   "source": []
  },
  {
   "cell_type": "code",
   "execution_count": 139,
   "metadata": {},
   "outputs": [
    {
     "name": "stdout",
     "output_type": "stream",
     "text": [
      "Training-epoch:0 is processing\n",
      "epoch 1/2, step 5/43, inputs: torch.Size([16, 3, 256, 256])\n",
      "loss 0.6665401458740234 \n",
      "\n",
      "epoch 1/2, step 10/43, inputs: torch.Size([16, 3, 256, 256])\n",
      "loss 0.6915909647941589 \n",
      "\n",
      "epoch 1/2, step 15/43, inputs: torch.Size([16, 3, 256, 256])\n",
      "loss 0.6330296397209167 \n",
      "\n",
      "epoch 1/2, step 20/43, inputs: torch.Size([16, 3, 256, 256])\n",
      "loss 0.6901612281799316 \n",
      "\n",
      "epoch 1/2, step 25/43, inputs: torch.Size([16, 3, 256, 256])\n",
      "loss 0.6739391088485718 \n",
      "\n",
      "epoch 1/2, step 30/43, inputs: torch.Size([16, 3, 256, 256])\n",
      "loss 0.6614384651184082 \n",
      "\n",
      "epoch 1/2, step 35/43, inputs: torch.Size([16, 3, 256, 256])\n",
      "loss 0.6848043203353882 \n",
      "\n",
      "epoch 1/2, step 40/43, inputs: torch.Size([16, 3, 256, 256])\n",
      "loss 0.7176257967948914 \n",
      "\n",
      "Val-epoch:0 is processing\n",
      "epoch 1/2, step 5/11, inputs: torch.Size([16, 3, 256, 256])\n",
      "val-loss 0.7649156451225281 \n",
      "\n",
      "epoch 1/2, step 10/11, inputs: torch.Size([16, 3, 256, 256])\n",
      "val-loss 0.6205848455429077 \n",
      "\n",
      "Training-epoch:1 is processing\n",
      "epoch 2/2, step 5/43, inputs: torch.Size([16, 3, 256, 256])\n",
      "loss 0.699247419834137 \n",
      "\n",
      "epoch 2/2, step 10/43, inputs: torch.Size([16, 3, 256, 256])\n",
      "loss 0.6880455017089844 \n",
      "\n",
      "epoch 2/2, step 15/43, inputs: torch.Size([16, 3, 256, 256])\n",
      "loss 0.7113355994224548 \n",
      "\n",
      "epoch 2/2, step 20/43, inputs: torch.Size([16, 3, 256, 256])\n",
      "loss 0.7054533362388611 \n",
      "\n",
      "epoch 2/2, step 25/43, inputs: torch.Size([16, 3, 256, 256])\n",
      "loss 0.6574286818504333 \n",
      "\n",
      "epoch 2/2, step 30/43, inputs: torch.Size([16, 3, 256, 256])\n",
      "loss 0.6954101920127869 \n",
      "\n",
      "epoch 2/2, step 35/43, inputs: torch.Size([16, 3, 256, 256])\n",
      "loss 0.7248622179031372 \n",
      "\n",
      "epoch 2/2, step 40/43, inputs: torch.Size([16, 3, 256, 256])\n",
      "loss 0.6829367280006409 \n",
      "\n",
      "Val-epoch:1 is processing\n",
      "epoch 2/2, step 5/11, inputs: torch.Size([16, 3, 256, 256])\n",
      "val-loss 0.7649156451225281 \n",
      "\n",
      "epoch 2/2, step 10/11, inputs: torch.Size([16, 3, 256, 256])\n",
      "val-loss 0.6205848455429077 \n",
      "\n",
      "Test Accuracy of the model on test images: 56.6038%\n"
     ]
    }
   ],
   "source": [
    "# Loss and Optimizer\n",
    "CEL = nn.CrossEntropyLoss()\n",
    "optimizer = torch.optim.Adam(cnn.parameters(), lr=lr)\n",
    "\n",
    "# Train the Model\n",
    "for epoch in range(num_epochs):\n",
    "    \n",
    "    print(f'Training-epoch:{epoch} is processing')\n",
    "    for i, batch in enumerate(train_data_loader):\n",
    "        images, labels = batch\n",
    "        optimizer.zero_grad()\n",
    "        outputs = model(images)\n",
    "        loss = CEL(outputs,labels)\n",
    "        if (i+1) % 5 == 0:\n",
    "            print(f'epoch {epoch+1}/{num_epochs}, step {i+1}/{n_train_iterations}, inputs: {images.shape}')\n",
    "            print(\"loss\", loss.item(), '\\n')\n",
    "        loss.backward()\n",
    "        optimizer.step()\n",
    "    with torch.no_grad():\n",
    "        print(f'Val-epoch:{epoch} is processing')\n",
    "        for i, batch in enumerate(val_data_loader):\n",
    "            images, labels = batch\n",
    "            optimizer.zero_grad()\n",
    "            outputs = model(images)\n",
    "            loss = CEL(outputs, labels)\n",
    "            if (i+1) % 5 == 0:\n",
    "                print(f'epoch {epoch+1}/{num_epochs}, step {i+1}/{n_val_iterations}, inputs: {images.shape}')\n",
    "                print(\"val-loss\", loss.item(), '\\n')\n",
    "                \n",
    "\n",
    "# Test the Model\n",
    "cnn.eval()  # Change model to 'eval' mode (BN uses moving mean/var)\n",
    "correct = 0\n",
    "total = 0\n",
    "for images, labels in test_data_loader:\n",
    "    outputs = model(images)\n",
    "    _, predicted = torch.max(outputs.data, 1)\n",
    "    total += labels.size(0)\n",
    "    correct += (predicted == labels).sum()\n",
    "print('Test Accuracy of the model on test images: %.4f%%' % (100.0*correct/total))\n",
    "\n"
   ]
  },
  {
   "cell_type": "code",
   "execution_count": null,
   "metadata": {},
   "outputs": [],
   "source": []
  }
 ],
 "metadata": {
  "kernelspec": {
   "display_name": "Python 3",
   "language": "python",
   "name": "python3"
  },
  "language_info": {
   "codemirror_mode": {
    "name": "ipython",
    "version": 3
   },
   "file_extension": ".py",
   "mimetype": "text/x-python",
   "name": "python",
   "nbconvert_exporter": "python",
   "pygments_lexer": "ipython3",
   "version": "3.8.5"
  }
 },
 "nbformat": 4,
 "nbformat_minor": 4
}
